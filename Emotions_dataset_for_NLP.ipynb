{
  "nbformat": 4,
  "nbformat_minor": 0,
  "metadata": {
    "colab": {
      "name": "Emotions dataset for NLP.ipynb",
      "provenance": [],
      "collapsed_sections": [],
      "authorship_tag": "ABX9TyN+b7TtwywXr/dVA5cvAflD",
      "include_colab_link": true
    },
    "kernelspec": {
      "name": "python3",
      "display_name": "Python 3"
    },
    "language_info": {
      "name": "python"
    },
    "accelerator": "GPU"
  },
  "cells": [
    {
      "cell_type": "markdown",
      "metadata": {
        "id": "view-in-github",
        "colab_type": "text"
      },
      "source": [
        "<a href=\"https://colab.research.google.com/github/ssabrut/Emotions-dataset-for-NLP/blob/main/Emotions_dataset_for_NLP.ipynb\" target=\"_parent\"><img src=\"https://colab.research.google.com/assets/colab-badge.svg\" alt=\"Open In Colab\"/></a>"
      ]
    },
    {
      "cell_type": "code",
      "metadata": {
        "id": "x34BuJbrMw5E"
      },
      "source": [
        "# from google.colab import files\n",
        "\n",
        "# uploaded = files.upload()\n",
        "# !pip install -q kaggle"
      ],
      "execution_count": 1,
      "outputs": []
    },
    {
      "cell_type": "code",
      "metadata": {
        "id": "zq6Uy7C9M4Qc"
      },
      "source": [
        "# !mkdir ~/.kaggle\n",
        "# !mv kaggle.json ~/.kaggle\n",
        "# !chmod 600 ~/.kaggle/kaggle.json"
      ],
      "execution_count": 2,
      "outputs": []
    },
    {
      "cell_type": "code",
      "metadata": {
        "id": "wX-ABGckNHds"
      },
      "source": [
        "# !kaggle datasets download -d praveengovi/emotions-dataset-for-nlp"
      ],
      "execution_count": 3,
      "outputs": []
    },
    {
      "cell_type": "code",
      "metadata": {
        "id": "vGXJgM_WNJsk"
      },
      "source": [
        "# import os\n",
        "# import zipfile\n",
        "\n",
        "# local_zip = '/content/emotions-dataset-for-nlp.zip'\n",
        "# zip_ref = zipfile.ZipFile(local_zip, 'r')\n",
        "# zip_ref.extractall('/content')\n",
        "# zip_ref.close()"
      ],
      "execution_count": 4,
      "outputs": []
    },
    {
      "cell_type": "code",
      "metadata": {
        "id": "gCYUf-cZNaSF"
      },
      "source": [
        "import csv\n",
        "\n",
        "train_path = '/content/train.txt'\n",
        "train_sentences, train_label = [], []\n",
        "\n",
        "with open(train_path, 'r', newline = '') as train_data:\n",
        "  train_reader = csv.reader(train_data, delimiter = ';')\n",
        "\n",
        "  for train, label in train_reader:\n",
        "    train_sentences.append(train)\n",
        "    train_label.append(label)"
      ],
      "execution_count": 5,
      "outputs": []
    },
    {
      "cell_type": "code",
      "metadata": {
        "id": "zB1IPlYlo7J2"
      },
      "source": [
        "validation_path = '/content/val.txt'\n",
        "validation_sentences, validation_label = [], []\n",
        "\n",
        "with open(validation_path, 'r', newline = '') as val_data:\n",
        "  val_reader = csv.reader(val_data, delimiter = ';')\n",
        "\n",
        "  for val, label in val_reader:\n",
        "    validation_sentences.append(val)\n",
        "    validation_label.append(label)"
      ],
      "execution_count": 6,
      "outputs": []
    },
    {
      "cell_type": "code",
      "metadata": {
        "colab": {
          "base_uri": "https://localhost:8080/",
          "height": 359
        },
        "id": "rQHJ6OvyqKww",
        "outputId": "762a7c0f-8692-4f76-ffb8-6541fcf2df11"
      },
      "source": [
        "import pandas as pd\n",
        "\n",
        "train_df = pd.DataFrame(list(zip(train_sentences, train_label)), columns = ['sentence', 'label'])\n",
        "train_df.head(10)"
      ],
      "execution_count": 7,
      "outputs": [
        {
          "output_type": "execute_result",
          "data": {
            "text/html": [
              "<div>\n",
              "<style scoped>\n",
              "    .dataframe tbody tr th:only-of-type {\n",
              "        vertical-align: middle;\n",
              "    }\n",
              "\n",
              "    .dataframe tbody tr th {\n",
              "        vertical-align: top;\n",
              "    }\n",
              "\n",
              "    .dataframe thead th {\n",
              "        text-align: right;\n",
              "    }\n",
              "</style>\n",
              "<table border=\"1\" class=\"dataframe\">\n",
              "  <thead>\n",
              "    <tr style=\"text-align: right;\">\n",
              "      <th></th>\n",
              "      <th>sentence</th>\n",
              "      <th>label</th>\n",
              "    </tr>\n",
              "  </thead>\n",
              "  <tbody>\n",
              "    <tr>\n",
              "      <th>0</th>\n",
              "      <td>i didnt feel humiliated</td>\n",
              "      <td>sadness</td>\n",
              "    </tr>\n",
              "    <tr>\n",
              "      <th>1</th>\n",
              "      <td>i can go from feeling so hopeless to so damned...</td>\n",
              "      <td>sadness</td>\n",
              "    </tr>\n",
              "    <tr>\n",
              "      <th>2</th>\n",
              "      <td>im grabbing a minute to post i feel greedy wrong</td>\n",
              "      <td>anger</td>\n",
              "    </tr>\n",
              "    <tr>\n",
              "      <th>3</th>\n",
              "      <td>i am ever feeling nostalgic about the fireplac...</td>\n",
              "      <td>love</td>\n",
              "    </tr>\n",
              "    <tr>\n",
              "      <th>4</th>\n",
              "      <td>i am feeling grouchy</td>\n",
              "      <td>anger</td>\n",
              "    </tr>\n",
              "    <tr>\n",
              "      <th>5</th>\n",
              "      <td>ive been feeling a little burdened lately wasn...</td>\n",
              "      <td>sadness</td>\n",
              "    </tr>\n",
              "    <tr>\n",
              "      <th>6</th>\n",
              "      <td>ive been taking or milligrams or times recomme...</td>\n",
              "      <td>surprise</td>\n",
              "    </tr>\n",
              "    <tr>\n",
              "      <th>7</th>\n",
              "      <td>i feel as confused about life as a teenager or...</td>\n",
              "      <td>fear</td>\n",
              "    </tr>\n",
              "    <tr>\n",
              "      <th>8</th>\n",
              "      <td>i have been with petronas for years i feel tha...</td>\n",
              "      <td>joy</td>\n",
              "    </tr>\n",
              "    <tr>\n",
              "      <th>9</th>\n",
              "      <td>i feel romantic too</td>\n",
              "      <td>love</td>\n",
              "    </tr>\n",
              "  </tbody>\n",
              "</table>\n",
              "</div>"
            ],
            "text/plain": [
              "                                            sentence     label\n",
              "0                            i didnt feel humiliated   sadness\n",
              "1  i can go from feeling so hopeless to so damned...   sadness\n",
              "2   im grabbing a minute to post i feel greedy wrong     anger\n",
              "3  i am ever feeling nostalgic about the fireplac...      love\n",
              "4                               i am feeling grouchy     anger\n",
              "5  ive been feeling a little burdened lately wasn...   sadness\n",
              "6  ive been taking or milligrams or times recomme...  surprise\n",
              "7  i feel as confused about life as a teenager or...      fear\n",
              "8  i have been with petronas for years i feel tha...       joy\n",
              "9                                i feel romantic too      love"
            ]
          },
          "metadata": {},
          "execution_count": 7
        }
      ]
    },
    {
      "cell_type": "code",
      "metadata": {
        "colab": {
          "base_uri": "https://localhost:8080/"
        },
        "id": "kAwHYq2uU5TZ",
        "outputId": "0ea7e038-71d9-4289-c7b6-c17b42de2de1"
      },
      "source": [
        "print(train_df.shape)\n",
        "print(train_df.isnull().sum())"
      ],
      "execution_count": 8,
      "outputs": [
        {
          "output_type": "stream",
          "name": "stdout",
          "text": [
            "(16000, 2)\n",
            "sentence    0\n",
            "label       0\n",
            "dtype: int64\n"
          ]
        }
      ]
    },
    {
      "cell_type": "code",
      "metadata": {
        "colab": {
          "base_uri": "https://localhost:8080/",
          "height": 359
        },
        "id": "FzgrVSB9qjCp",
        "outputId": "783a98d2-8672-40bd-9058-19b3badd144a"
      },
      "source": [
        "validation_df = pd.DataFrame(list(zip(validation_sentences, validation_label)), columns = ['sentence', 'label'])\n",
        "validation_df.head(10)"
      ],
      "execution_count": 9,
      "outputs": [
        {
          "output_type": "execute_result",
          "data": {
            "text/html": [
              "<div>\n",
              "<style scoped>\n",
              "    .dataframe tbody tr th:only-of-type {\n",
              "        vertical-align: middle;\n",
              "    }\n",
              "\n",
              "    .dataframe tbody tr th {\n",
              "        vertical-align: top;\n",
              "    }\n",
              "\n",
              "    .dataframe thead th {\n",
              "        text-align: right;\n",
              "    }\n",
              "</style>\n",
              "<table border=\"1\" class=\"dataframe\">\n",
              "  <thead>\n",
              "    <tr style=\"text-align: right;\">\n",
              "      <th></th>\n",
              "      <th>sentence</th>\n",
              "      <th>label</th>\n",
              "    </tr>\n",
              "  </thead>\n",
              "  <tbody>\n",
              "    <tr>\n",
              "      <th>0</th>\n",
              "      <td>im feeling quite sad and sorry for myself but ...</td>\n",
              "      <td>sadness</td>\n",
              "    </tr>\n",
              "    <tr>\n",
              "      <th>1</th>\n",
              "      <td>i feel like i am still looking at a blank canv...</td>\n",
              "      <td>sadness</td>\n",
              "    </tr>\n",
              "    <tr>\n",
              "      <th>2</th>\n",
              "      <td>i feel like a faithful servant</td>\n",
              "      <td>love</td>\n",
              "    </tr>\n",
              "    <tr>\n",
              "      <th>3</th>\n",
              "      <td>i am just feeling cranky and blue</td>\n",
              "      <td>anger</td>\n",
              "    </tr>\n",
              "    <tr>\n",
              "      <th>4</th>\n",
              "      <td>i can have for a treat or if i am feeling festive</td>\n",
              "      <td>joy</td>\n",
              "    </tr>\n",
              "    <tr>\n",
              "      <th>5</th>\n",
              "      <td>i start to feel more appreciative of what god ...</td>\n",
              "      <td>joy</td>\n",
              "    </tr>\n",
              "    <tr>\n",
              "      <th>6</th>\n",
              "      <td>i am feeling more confident that we will be ab...</td>\n",
              "      <td>joy</td>\n",
              "    </tr>\n",
              "    <tr>\n",
              "      <th>7</th>\n",
              "      <td>i feel incredibly lucky just to be able to tal...</td>\n",
              "      <td>joy</td>\n",
              "    </tr>\n",
              "    <tr>\n",
              "      <th>8</th>\n",
              "      <td>i feel less keen about the army every day</td>\n",
              "      <td>joy</td>\n",
              "    </tr>\n",
              "    <tr>\n",
              "      <th>9</th>\n",
              "      <td>i feel dirty and ashamed for saying that</td>\n",
              "      <td>sadness</td>\n",
              "    </tr>\n",
              "  </tbody>\n",
              "</table>\n",
              "</div>"
            ],
            "text/plain": [
              "                                            sentence    label\n",
              "0  im feeling quite sad and sorry for myself but ...  sadness\n",
              "1  i feel like i am still looking at a blank canv...  sadness\n",
              "2                     i feel like a faithful servant     love\n",
              "3                  i am just feeling cranky and blue    anger\n",
              "4  i can have for a treat or if i am feeling festive      joy\n",
              "5  i start to feel more appreciative of what god ...      joy\n",
              "6  i am feeling more confident that we will be ab...      joy\n",
              "7  i feel incredibly lucky just to be able to tal...      joy\n",
              "8          i feel less keen about the army every day      joy\n",
              "9           i feel dirty and ashamed for saying that  sadness"
            ]
          },
          "metadata": {},
          "execution_count": 9
        }
      ]
    },
    {
      "cell_type": "code",
      "metadata": {
        "colab": {
          "base_uri": "https://localhost:8080/"
        },
        "id": "SndpReDsU95c",
        "outputId": "8b5fe252-4a82-4e96-8cb7-952259f9536c"
      },
      "source": [
        "print(validation_df.shape)\n",
        "print(validation_df.isnull().sum())"
      ],
      "execution_count": 10,
      "outputs": [
        {
          "output_type": "stream",
          "name": "stdout",
          "text": [
            "(2000, 2)\n",
            "sentence    0\n",
            "label       0\n",
            "dtype: int64\n"
          ]
        }
      ]
    },
    {
      "cell_type": "code",
      "metadata": {
        "colab": {
          "base_uri": "https://localhost:8080/",
          "height": 359
        },
        "id": "9GkfK7DZVABc",
        "outputId": "2e94192a-e23d-45e2-ba1f-87ee677438de"
      },
      "source": [
        "df = pd.concat([train_df, validation_df])\n",
        "df.head(10)"
      ],
      "execution_count": 11,
      "outputs": [
        {
          "output_type": "execute_result",
          "data": {
            "text/html": [
              "<div>\n",
              "<style scoped>\n",
              "    .dataframe tbody tr th:only-of-type {\n",
              "        vertical-align: middle;\n",
              "    }\n",
              "\n",
              "    .dataframe tbody tr th {\n",
              "        vertical-align: top;\n",
              "    }\n",
              "\n",
              "    .dataframe thead th {\n",
              "        text-align: right;\n",
              "    }\n",
              "</style>\n",
              "<table border=\"1\" class=\"dataframe\">\n",
              "  <thead>\n",
              "    <tr style=\"text-align: right;\">\n",
              "      <th></th>\n",
              "      <th>sentence</th>\n",
              "      <th>label</th>\n",
              "    </tr>\n",
              "  </thead>\n",
              "  <tbody>\n",
              "    <tr>\n",
              "      <th>0</th>\n",
              "      <td>i didnt feel humiliated</td>\n",
              "      <td>sadness</td>\n",
              "    </tr>\n",
              "    <tr>\n",
              "      <th>1</th>\n",
              "      <td>i can go from feeling so hopeless to so damned...</td>\n",
              "      <td>sadness</td>\n",
              "    </tr>\n",
              "    <tr>\n",
              "      <th>2</th>\n",
              "      <td>im grabbing a minute to post i feel greedy wrong</td>\n",
              "      <td>anger</td>\n",
              "    </tr>\n",
              "    <tr>\n",
              "      <th>3</th>\n",
              "      <td>i am ever feeling nostalgic about the fireplac...</td>\n",
              "      <td>love</td>\n",
              "    </tr>\n",
              "    <tr>\n",
              "      <th>4</th>\n",
              "      <td>i am feeling grouchy</td>\n",
              "      <td>anger</td>\n",
              "    </tr>\n",
              "    <tr>\n",
              "      <th>5</th>\n",
              "      <td>ive been feeling a little burdened lately wasn...</td>\n",
              "      <td>sadness</td>\n",
              "    </tr>\n",
              "    <tr>\n",
              "      <th>6</th>\n",
              "      <td>ive been taking or milligrams or times recomme...</td>\n",
              "      <td>surprise</td>\n",
              "    </tr>\n",
              "    <tr>\n",
              "      <th>7</th>\n",
              "      <td>i feel as confused about life as a teenager or...</td>\n",
              "      <td>fear</td>\n",
              "    </tr>\n",
              "    <tr>\n",
              "      <th>8</th>\n",
              "      <td>i have been with petronas for years i feel tha...</td>\n",
              "      <td>joy</td>\n",
              "    </tr>\n",
              "    <tr>\n",
              "      <th>9</th>\n",
              "      <td>i feel romantic too</td>\n",
              "      <td>love</td>\n",
              "    </tr>\n",
              "  </tbody>\n",
              "</table>\n",
              "</div>"
            ],
            "text/plain": [
              "                                            sentence     label\n",
              "0                            i didnt feel humiliated   sadness\n",
              "1  i can go from feeling so hopeless to so damned...   sadness\n",
              "2   im grabbing a minute to post i feel greedy wrong     anger\n",
              "3  i am ever feeling nostalgic about the fireplac...      love\n",
              "4                               i am feeling grouchy     anger\n",
              "5  ive been feeling a little burdened lately wasn...   sadness\n",
              "6  ive been taking or milligrams or times recomme...  surprise\n",
              "7  i feel as confused about life as a teenager or...      fear\n",
              "8  i have been with petronas for years i feel tha...       joy\n",
              "9                                i feel romantic too      love"
            ]
          },
          "metadata": {},
          "execution_count": 11
        }
      ]
    },
    {
      "cell_type": "code",
      "metadata": {
        "colab": {
          "base_uri": "https://localhost:8080/"
        },
        "id": "jNDja323VKCR",
        "outputId": "d6ea469a-2cd0-4764-f191-7c83156d3496"
      },
      "source": [
        "print(df.shape)\n",
        "print(df.isnull().sum())"
      ],
      "execution_count": 12,
      "outputs": [
        {
          "output_type": "stream",
          "name": "stdout",
          "text": [
            "(18000, 2)\n",
            "sentence    0\n",
            "label       0\n",
            "dtype: int64\n"
          ]
        }
      ]
    },
    {
      "cell_type": "code",
      "metadata": {
        "colab": {
          "base_uri": "https://localhost:8080/",
          "height": 359
        },
        "id": "JrSb18uZVPFQ",
        "outputId": "83336f7b-cf12-4a0d-c222-4529d305c3d0"
      },
      "source": [
        "import re\n",
        "\n",
        "def remove_hyperlinks(text):\n",
        "  sentence = re.sub(r'www?:\\/\\/.*[\\r\\n]*', '', text)\n",
        "  sentence = re.sub(r'http?:\\/\\/.*[\\r\\n]*', '', sentence)\n",
        "  return re.sub(r'https?:\\/\\/.*[\\r\\n]*', '', sentence)\n",
        "\n",
        "def remove_currencies(text):\n",
        "  return re.sub(r'[\\$\\d+\\d+\\$]', '', text)\n",
        "\n",
        "def remove_number(text):\n",
        "  return re.sub(r'\\d+', '', text)\n",
        "\n",
        "df['sentence'] = df['sentence'].apply(lambda x: remove_hyperlinks(x.lower()))\n",
        "df['sentence'] = df['sentence'].apply(lambda x: remove_currencies(x))\n",
        "df['sentence'] = df['sentence'].apply(lambda x: remove_number(x))\n",
        "df.head(10)"
      ],
      "execution_count": 13,
      "outputs": [
        {
          "output_type": "execute_result",
          "data": {
            "text/html": [
              "<div>\n",
              "<style scoped>\n",
              "    .dataframe tbody tr th:only-of-type {\n",
              "        vertical-align: middle;\n",
              "    }\n",
              "\n",
              "    .dataframe tbody tr th {\n",
              "        vertical-align: top;\n",
              "    }\n",
              "\n",
              "    .dataframe thead th {\n",
              "        text-align: right;\n",
              "    }\n",
              "</style>\n",
              "<table border=\"1\" class=\"dataframe\">\n",
              "  <thead>\n",
              "    <tr style=\"text-align: right;\">\n",
              "      <th></th>\n",
              "      <th>sentence</th>\n",
              "      <th>label</th>\n",
              "    </tr>\n",
              "  </thead>\n",
              "  <tbody>\n",
              "    <tr>\n",
              "      <th>0</th>\n",
              "      <td>i didnt feel humiliated</td>\n",
              "      <td>sadness</td>\n",
              "    </tr>\n",
              "    <tr>\n",
              "      <th>1</th>\n",
              "      <td>i can go from feeling so hopeless to so damned...</td>\n",
              "      <td>sadness</td>\n",
              "    </tr>\n",
              "    <tr>\n",
              "      <th>2</th>\n",
              "      <td>im grabbing a minute to post i feel greedy wrong</td>\n",
              "      <td>anger</td>\n",
              "    </tr>\n",
              "    <tr>\n",
              "      <th>3</th>\n",
              "      <td>i am ever feeling nostalgic about the fireplac...</td>\n",
              "      <td>love</td>\n",
              "    </tr>\n",
              "    <tr>\n",
              "      <th>4</th>\n",
              "      <td>i am feeling grouchy</td>\n",
              "      <td>anger</td>\n",
              "    </tr>\n",
              "    <tr>\n",
              "      <th>5</th>\n",
              "      <td>ive been feeling a little burdened lately wasn...</td>\n",
              "      <td>sadness</td>\n",
              "    </tr>\n",
              "    <tr>\n",
              "      <th>6</th>\n",
              "      <td>ive been taking or milligrams or times recomme...</td>\n",
              "      <td>surprise</td>\n",
              "    </tr>\n",
              "    <tr>\n",
              "      <th>7</th>\n",
              "      <td>i feel as confused about life as a teenager or...</td>\n",
              "      <td>fear</td>\n",
              "    </tr>\n",
              "    <tr>\n",
              "      <th>8</th>\n",
              "      <td>i have been with petronas for years i feel tha...</td>\n",
              "      <td>joy</td>\n",
              "    </tr>\n",
              "    <tr>\n",
              "      <th>9</th>\n",
              "      <td>i feel romantic too</td>\n",
              "      <td>love</td>\n",
              "    </tr>\n",
              "  </tbody>\n",
              "</table>\n",
              "</div>"
            ],
            "text/plain": [
              "                                            sentence     label\n",
              "0                            i didnt feel humiliated   sadness\n",
              "1  i can go from feeling so hopeless to so damned...   sadness\n",
              "2   im grabbing a minute to post i feel greedy wrong     anger\n",
              "3  i am ever feeling nostalgic about the fireplac...      love\n",
              "4                               i am feeling grouchy     anger\n",
              "5  ive been feeling a little burdened lately wasn...   sadness\n",
              "6  ive been taking or milligrams or times recomme...  surprise\n",
              "7  i feel as confused about life as a teenager or...      fear\n",
              "8  i have been with petronas for years i feel tha...       joy\n",
              "9                                i feel romantic too      love"
            ]
          },
          "metadata": {},
          "execution_count": 13
        }
      ]
    },
    {
      "cell_type": "code",
      "metadata": {
        "colab": {
          "base_uri": "https://localhost:8080/",
          "height": 359
        },
        "id": "I9eFrfugWGKl",
        "outputId": "da4848f5-285e-4152-8c7c-cfb8dea17eeb"
      },
      "source": [
        "import string\n",
        "\n",
        "def remove_punctuation(text):\n",
        "  return ''.join([word for word in text if word not in string.punctuation])\n",
        "\n",
        "def tokenize(text):\n",
        "  return re.split(r'\\W+', text)\n",
        "\n",
        "df['sentence'] = df['sentence'].apply(lambda x: remove_punctuation(x))\n",
        "df['sentence'] = df['sentence'].apply(lambda x: tokenize(x))\n",
        "df.head(10)"
      ],
      "execution_count": 14,
      "outputs": [
        {
          "output_type": "execute_result",
          "data": {
            "text/html": [
              "<div>\n",
              "<style scoped>\n",
              "    .dataframe tbody tr th:only-of-type {\n",
              "        vertical-align: middle;\n",
              "    }\n",
              "\n",
              "    .dataframe tbody tr th {\n",
              "        vertical-align: top;\n",
              "    }\n",
              "\n",
              "    .dataframe thead th {\n",
              "        text-align: right;\n",
              "    }\n",
              "</style>\n",
              "<table border=\"1\" class=\"dataframe\">\n",
              "  <thead>\n",
              "    <tr style=\"text-align: right;\">\n",
              "      <th></th>\n",
              "      <th>sentence</th>\n",
              "      <th>label</th>\n",
              "    </tr>\n",
              "  </thead>\n",
              "  <tbody>\n",
              "    <tr>\n",
              "      <th>0</th>\n",
              "      <td>[i, didnt, feel, humiliated]</td>\n",
              "      <td>sadness</td>\n",
              "    </tr>\n",
              "    <tr>\n",
              "      <th>1</th>\n",
              "      <td>[i, can, go, from, feeling, so, hopeless, to, ...</td>\n",
              "      <td>sadness</td>\n",
              "    </tr>\n",
              "    <tr>\n",
              "      <th>2</th>\n",
              "      <td>[im, grabbing, a, minute, to, post, i, feel, g...</td>\n",
              "      <td>anger</td>\n",
              "    </tr>\n",
              "    <tr>\n",
              "      <th>3</th>\n",
              "      <td>[i, am, ever, feeling, nostalgic, about, the, ...</td>\n",
              "      <td>love</td>\n",
              "    </tr>\n",
              "    <tr>\n",
              "      <th>4</th>\n",
              "      <td>[i, am, feeling, grouchy]</td>\n",
              "      <td>anger</td>\n",
              "    </tr>\n",
              "    <tr>\n",
              "      <th>5</th>\n",
              "      <td>[ive, been, feeling, a, little, burdened, late...</td>\n",
              "      <td>sadness</td>\n",
              "    </tr>\n",
              "    <tr>\n",
              "      <th>6</th>\n",
              "      <td>[ive, been, taking, or, milligrams, or, times,...</td>\n",
              "      <td>surprise</td>\n",
              "    </tr>\n",
              "    <tr>\n",
              "      <th>7</th>\n",
              "      <td>[i, feel, as, confused, about, life, as, a, te...</td>\n",
              "      <td>fear</td>\n",
              "    </tr>\n",
              "    <tr>\n",
              "      <th>8</th>\n",
              "      <td>[i, have, been, with, petronas, for, years, i,...</td>\n",
              "      <td>joy</td>\n",
              "    </tr>\n",
              "    <tr>\n",
              "      <th>9</th>\n",
              "      <td>[i, feel, romantic, too]</td>\n",
              "      <td>love</td>\n",
              "    </tr>\n",
              "  </tbody>\n",
              "</table>\n",
              "</div>"
            ],
            "text/plain": [
              "                                            sentence     label\n",
              "0                       [i, didnt, feel, humiliated]   sadness\n",
              "1  [i, can, go, from, feeling, so, hopeless, to, ...   sadness\n",
              "2  [im, grabbing, a, minute, to, post, i, feel, g...     anger\n",
              "3  [i, am, ever, feeling, nostalgic, about, the, ...      love\n",
              "4                          [i, am, feeling, grouchy]     anger\n",
              "5  [ive, been, feeling, a, little, burdened, late...   sadness\n",
              "6  [ive, been, taking, or, milligrams, or, times,...  surprise\n",
              "7  [i, feel, as, confused, about, life, as, a, te...      fear\n",
              "8  [i, have, been, with, petronas, for, years, i,...       joy\n",
              "9                           [i, feel, romantic, too]      love"
            ]
          },
          "metadata": {},
          "execution_count": 14
        }
      ]
    },
    {
      "cell_type": "code",
      "metadata": {
        "colab": {
          "base_uri": "https://localhost:8080/",
          "height": 393
        },
        "id": "pf8o4HSMWf_F",
        "outputId": "73f9a502-f240-4921-d764-2bce74a0f22c"
      },
      "source": [
        "import nltk\n",
        "from nltk.corpus import stopwords\n",
        "nltk.download('stopwords')\n",
        "\n",
        "stopword = stopwords.words('english')\n",
        "def remove_stopword(text):\n",
        "  return [word for word in text if word not in stopword]\n",
        "\n",
        "df['sentence'] = df['sentence'].apply(lambda x: remove_stopword(x))\n",
        "df.head(10)"
      ],
      "execution_count": 15,
      "outputs": [
        {
          "output_type": "stream",
          "name": "stdout",
          "text": [
            "[nltk_data] Downloading package stopwords to /root/nltk_data...\n",
            "[nltk_data]   Package stopwords is already up-to-date!\n"
          ]
        },
        {
          "output_type": "execute_result",
          "data": {
            "text/html": [
              "<div>\n",
              "<style scoped>\n",
              "    .dataframe tbody tr th:only-of-type {\n",
              "        vertical-align: middle;\n",
              "    }\n",
              "\n",
              "    .dataframe tbody tr th {\n",
              "        vertical-align: top;\n",
              "    }\n",
              "\n",
              "    .dataframe thead th {\n",
              "        text-align: right;\n",
              "    }\n",
              "</style>\n",
              "<table border=\"1\" class=\"dataframe\">\n",
              "  <thead>\n",
              "    <tr style=\"text-align: right;\">\n",
              "      <th></th>\n",
              "      <th>sentence</th>\n",
              "      <th>label</th>\n",
              "    </tr>\n",
              "  </thead>\n",
              "  <tbody>\n",
              "    <tr>\n",
              "      <th>0</th>\n",
              "      <td>[didnt, feel, humiliated]</td>\n",
              "      <td>sadness</td>\n",
              "    </tr>\n",
              "    <tr>\n",
              "      <th>1</th>\n",
              "      <td>[go, feeling, hopeless, damned, hopeful, aroun...</td>\n",
              "      <td>sadness</td>\n",
              "    </tr>\n",
              "    <tr>\n",
              "      <th>2</th>\n",
              "      <td>[im, grabbing, minute, post, feel, greedy, wrong]</td>\n",
              "      <td>anger</td>\n",
              "    </tr>\n",
              "    <tr>\n",
              "      <th>3</th>\n",
              "      <td>[ever, feeling, nostalgic, fireplace, know, st...</td>\n",
              "      <td>love</td>\n",
              "    </tr>\n",
              "    <tr>\n",
              "      <th>4</th>\n",
              "      <td>[feeling, grouchy]</td>\n",
              "      <td>anger</td>\n",
              "    </tr>\n",
              "    <tr>\n",
              "      <th>5</th>\n",
              "      <td>[ive, feeling, little, burdened, lately, wasnt...</td>\n",
              "      <td>sadness</td>\n",
              "    </tr>\n",
              "    <tr>\n",
              "      <th>6</th>\n",
              "      <td>[ive, taking, milligrams, times, recommended, ...</td>\n",
              "      <td>surprise</td>\n",
              "    </tr>\n",
              "    <tr>\n",
              "      <th>7</th>\n",
              "      <td>[feel, confused, life, teenager, jaded, year, ...</td>\n",
              "      <td>fear</td>\n",
              "    </tr>\n",
              "    <tr>\n",
              "      <th>8</th>\n",
              "      <td>[petronas, years, feel, petronas, performed, w...</td>\n",
              "      <td>joy</td>\n",
              "    </tr>\n",
              "    <tr>\n",
              "      <th>9</th>\n",
              "      <td>[feel, romantic]</td>\n",
              "      <td>love</td>\n",
              "    </tr>\n",
              "  </tbody>\n",
              "</table>\n",
              "</div>"
            ],
            "text/plain": [
              "                                            sentence     label\n",
              "0                          [didnt, feel, humiliated]   sadness\n",
              "1  [go, feeling, hopeless, damned, hopeful, aroun...   sadness\n",
              "2  [im, grabbing, minute, post, feel, greedy, wrong]     anger\n",
              "3  [ever, feeling, nostalgic, fireplace, know, st...      love\n",
              "4                                 [feeling, grouchy]     anger\n",
              "5  [ive, feeling, little, burdened, lately, wasnt...   sadness\n",
              "6  [ive, taking, milligrams, times, recommended, ...  surprise\n",
              "7  [feel, confused, life, teenager, jaded, year, ...      fear\n",
              "8  [petronas, years, feel, petronas, performed, w...       joy\n",
              "9                                   [feel, romantic]      love"
            ]
          },
          "metadata": {},
          "execution_count": 15
        }
      ]
    },
    {
      "cell_type": "code",
      "metadata": {
        "colab": {
          "base_uri": "https://localhost:8080/",
          "height": 393
        },
        "id": "uBsgEq2GWvVK",
        "outputId": "4cf9e1e9-bf63-4496-bc48-6bb6ab44b8a1"
      },
      "source": [
        "from nltk.stem import WordNetLemmatizer\n",
        "nltk.download('wordnet')\n",
        "\n",
        "lemmatizer = WordNetLemmatizer()\n",
        "def lemmatize(text):\n",
        "  return ' '.join([lemmatizer.lemmatize(word) for word in text])\n",
        "\n",
        "df['sentence'] = df['sentence'].apply(lambda x: lemmatize(x))\n",
        "df.head(10)"
      ],
      "execution_count": 16,
      "outputs": [
        {
          "output_type": "stream",
          "name": "stdout",
          "text": [
            "[nltk_data] Downloading package wordnet to /root/nltk_data...\n",
            "[nltk_data]   Package wordnet is already up-to-date!\n"
          ]
        },
        {
          "output_type": "execute_result",
          "data": {
            "text/html": [
              "<div>\n",
              "<style scoped>\n",
              "    .dataframe tbody tr th:only-of-type {\n",
              "        vertical-align: middle;\n",
              "    }\n",
              "\n",
              "    .dataframe tbody tr th {\n",
              "        vertical-align: top;\n",
              "    }\n",
              "\n",
              "    .dataframe thead th {\n",
              "        text-align: right;\n",
              "    }\n",
              "</style>\n",
              "<table border=\"1\" class=\"dataframe\">\n",
              "  <thead>\n",
              "    <tr style=\"text-align: right;\">\n",
              "      <th></th>\n",
              "      <th>sentence</th>\n",
              "      <th>label</th>\n",
              "    </tr>\n",
              "  </thead>\n",
              "  <tbody>\n",
              "    <tr>\n",
              "      <th>0</th>\n",
              "      <td>didnt feel humiliated</td>\n",
              "      <td>sadness</td>\n",
              "    </tr>\n",
              "    <tr>\n",
              "      <th>1</th>\n",
              "      <td>go feeling hopeless damned hopeful around some...</td>\n",
              "      <td>sadness</td>\n",
              "    </tr>\n",
              "    <tr>\n",
              "      <th>2</th>\n",
              "      <td>im grabbing minute post feel greedy wrong</td>\n",
              "      <td>anger</td>\n",
              "    </tr>\n",
              "    <tr>\n",
              "      <th>3</th>\n",
              "      <td>ever feeling nostalgic fireplace know still pr...</td>\n",
              "      <td>love</td>\n",
              "    </tr>\n",
              "    <tr>\n",
              "      <th>4</th>\n",
              "      <td>feeling grouchy</td>\n",
              "      <td>anger</td>\n",
              "    </tr>\n",
              "    <tr>\n",
              "      <th>5</th>\n",
              "      <td>ive feeling little burdened lately wasnt sure</td>\n",
              "      <td>sadness</td>\n",
              "    </tr>\n",
              "    <tr>\n",
              "      <th>6</th>\n",
              "      <td>ive taking milligram time recommended amount i...</td>\n",
              "      <td>surprise</td>\n",
              "    </tr>\n",
              "    <tr>\n",
              "      <th>7</th>\n",
              "      <td>feel confused life teenager jaded year old man</td>\n",
              "      <td>fear</td>\n",
              "    </tr>\n",
              "    <tr>\n",
              "      <th>8</th>\n",
              "      <td>petronas year feel petronas performed well mad...</td>\n",
              "      <td>joy</td>\n",
              "    </tr>\n",
              "    <tr>\n",
              "      <th>9</th>\n",
              "      <td>feel romantic</td>\n",
              "      <td>love</td>\n",
              "    </tr>\n",
              "  </tbody>\n",
              "</table>\n",
              "</div>"
            ],
            "text/plain": [
              "                                            sentence     label\n",
              "0                              didnt feel humiliated   sadness\n",
              "1  go feeling hopeless damned hopeful around some...   sadness\n",
              "2          im grabbing minute post feel greedy wrong     anger\n",
              "3  ever feeling nostalgic fireplace know still pr...      love\n",
              "4                                    feeling grouchy     anger\n",
              "5      ive feeling little burdened lately wasnt sure   sadness\n",
              "6  ive taking milligram time recommended amount i...  surprise\n",
              "7     feel confused life teenager jaded year old man      fear\n",
              "8  petronas year feel petronas performed well mad...       joy\n",
              "9                                      feel romantic      love"
            ]
          },
          "metadata": {},
          "execution_count": 16
        }
      ]
    },
    {
      "cell_type": "code",
      "metadata": {
        "colab": {
          "base_uri": "https://localhost:8080/",
          "height": 359
        },
        "id": "8pVCYYoVqugs",
        "outputId": "30963225-0124-426d-d5ca-0dda499e6896"
      },
      "source": [
        "label = pd.get_dummies(df['label'])\n",
        "new_df = pd.concat([df, label], axis = 1)\n",
        "new_df = new_df.drop(columns = 'label')\n",
        "new_df.head(10)"
      ],
      "execution_count": 17,
      "outputs": [
        {
          "output_type": "execute_result",
          "data": {
            "text/html": [
              "<div>\n",
              "<style scoped>\n",
              "    .dataframe tbody tr th:only-of-type {\n",
              "        vertical-align: middle;\n",
              "    }\n",
              "\n",
              "    .dataframe tbody tr th {\n",
              "        vertical-align: top;\n",
              "    }\n",
              "\n",
              "    .dataframe thead th {\n",
              "        text-align: right;\n",
              "    }\n",
              "</style>\n",
              "<table border=\"1\" class=\"dataframe\">\n",
              "  <thead>\n",
              "    <tr style=\"text-align: right;\">\n",
              "      <th></th>\n",
              "      <th>sentence</th>\n",
              "      <th>anger</th>\n",
              "      <th>fear</th>\n",
              "      <th>joy</th>\n",
              "      <th>love</th>\n",
              "      <th>sadness</th>\n",
              "      <th>surprise</th>\n",
              "    </tr>\n",
              "  </thead>\n",
              "  <tbody>\n",
              "    <tr>\n",
              "      <th>0</th>\n",
              "      <td>didnt feel humiliated</td>\n",
              "      <td>0</td>\n",
              "      <td>0</td>\n",
              "      <td>0</td>\n",
              "      <td>0</td>\n",
              "      <td>1</td>\n",
              "      <td>0</td>\n",
              "    </tr>\n",
              "    <tr>\n",
              "      <th>1</th>\n",
              "      <td>go feeling hopeless damned hopeful around some...</td>\n",
              "      <td>0</td>\n",
              "      <td>0</td>\n",
              "      <td>0</td>\n",
              "      <td>0</td>\n",
              "      <td>1</td>\n",
              "      <td>0</td>\n",
              "    </tr>\n",
              "    <tr>\n",
              "      <th>2</th>\n",
              "      <td>im grabbing minute post feel greedy wrong</td>\n",
              "      <td>1</td>\n",
              "      <td>0</td>\n",
              "      <td>0</td>\n",
              "      <td>0</td>\n",
              "      <td>0</td>\n",
              "      <td>0</td>\n",
              "    </tr>\n",
              "    <tr>\n",
              "      <th>3</th>\n",
              "      <td>ever feeling nostalgic fireplace know still pr...</td>\n",
              "      <td>0</td>\n",
              "      <td>0</td>\n",
              "      <td>0</td>\n",
              "      <td>1</td>\n",
              "      <td>0</td>\n",
              "      <td>0</td>\n",
              "    </tr>\n",
              "    <tr>\n",
              "      <th>4</th>\n",
              "      <td>feeling grouchy</td>\n",
              "      <td>1</td>\n",
              "      <td>0</td>\n",
              "      <td>0</td>\n",
              "      <td>0</td>\n",
              "      <td>0</td>\n",
              "      <td>0</td>\n",
              "    </tr>\n",
              "    <tr>\n",
              "      <th>5</th>\n",
              "      <td>ive feeling little burdened lately wasnt sure</td>\n",
              "      <td>0</td>\n",
              "      <td>0</td>\n",
              "      <td>0</td>\n",
              "      <td>0</td>\n",
              "      <td>1</td>\n",
              "      <td>0</td>\n",
              "    </tr>\n",
              "    <tr>\n",
              "      <th>6</th>\n",
              "      <td>ive taking milligram time recommended amount i...</td>\n",
              "      <td>0</td>\n",
              "      <td>0</td>\n",
              "      <td>0</td>\n",
              "      <td>0</td>\n",
              "      <td>0</td>\n",
              "      <td>1</td>\n",
              "    </tr>\n",
              "    <tr>\n",
              "      <th>7</th>\n",
              "      <td>feel confused life teenager jaded year old man</td>\n",
              "      <td>0</td>\n",
              "      <td>1</td>\n",
              "      <td>0</td>\n",
              "      <td>0</td>\n",
              "      <td>0</td>\n",
              "      <td>0</td>\n",
              "    </tr>\n",
              "    <tr>\n",
              "      <th>8</th>\n",
              "      <td>petronas year feel petronas performed well mad...</td>\n",
              "      <td>0</td>\n",
              "      <td>0</td>\n",
              "      <td>1</td>\n",
              "      <td>0</td>\n",
              "      <td>0</td>\n",
              "      <td>0</td>\n",
              "    </tr>\n",
              "    <tr>\n",
              "      <th>9</th>\n",
              "      <td>feel romantic</td>\n",
              "      <td>0</td>\n",
              "      <td>0</td>\n",
              "      <td>0</td>\n",
              "      <td>1</td>\n",
              "      <td>0</td>\n",
              "      <td>0</td>\n",
              "    </tr>\n",
              "  </tbody>\n",
              "</table>\n",
              "</div>"
            ],
            "text/plain": [
              "                                            sentence  anger  ...  sadness  surprise\n",
              "0                              didnt feel humiliated      0  ...        1         0\n",
              "1  go feeling hopeless damned hopeful around some...      0  ...        1         0\n",
              "2          im grabbing minute post feel greedy wrong      1  ...        0         0\n",
              "3  ever feeling nostalgic fireplace know still pr...      0  ...        0         0\n",
              "4                                    feeling grouchy      1  ...        0         0\n",
              "5      ive feeling little burdened lately wasnt sure      0  ...        1         0\n",
              "6  ive taking milligram time recommended amount i...      0  ...        0         1\n",
              "7     feel confused life teenager jaded year old man      0  ...        0         0\n",
              "8  petronas year feel petronas performed well mad...      0  ...        0         0\n",
              "9                                      feel romantic      0  ...        0         0\n",
              "\n",
              "[10 rows x 7 columns]"
            ]
          },
          "metadata": {},
          "execution_count": 17
        }
      ]
    },
    {
      "cell_type": "code",
      "metadata": {
        "id": "qgxp4sxXrvFO"
      },
      "source": [
        "sentence = new_df['sentence'].values\n",
        "label = new_df[['anger', 'fear', 'joy', 'love', 'sadness', 'surprise']].values"
      ],
      "execution_count": 18,
      "outputs": []
    },
    {
      "cell_type": "code",
      "metadata": {
        "id": "e06rVlt2sie2"
      },
      "source": [
        "from sklearn.model_selection import train_test_split\n",
        "\n",
        "sentence_train, sentence_test, label_train, label_test = train_test_split(sentence, label, test_size = 0.25, random_state = 0)"
      ],
      "execution_count": 19,
      "outputs": []
    },
    {
      "cell_type": "code",
      "metadata": {
        "id": "VxsxoGDqsmPo"
      },
      "source": [
        "from tensorflow.keras.preprocessing.text import Tokenizer\n",
        "from tensorflow.keras.preprocessing.sequence import pad_sequences\n",
        "\n",
        "num_words = 10000\n",
        "oov_token = 'x'\n",
        "filters = '!\"#$%&()*+,-./:;<=>?@[\\\\]^_`{|}~\\t\\n'\n",
        "output_dim = 64\n",
        "\n",
        "tokenizer = Tokenizer(num_words = num_words, oov_token = oov_token, filters = filters)\n",
        "tokenizer.fit_on_texts(sentence_train)\n",
        "tokenizer.fit_on_texts(sentence_test)\n",
        "\n",
        "sequences_train = tokenizer.texts_to_sequences(sentence_train)\n",
        "sequences_val = tokenizer.texts_to_sequences(sentence_test)\n",
        "\n",
        "padded_train = pad_sequences(sequences_train)\n",
        "padded_val = pad_sequences(sequences_val)"
      ],
      "execution_count": 20,
      "outputs": []
    },
    {
      "cell_type": "code",
      "metadata": {
        "colab": {
          "base_uri": "https://localhost:8080/"
        },
        "id": "Dvp5P87ZoFUN",
        "outputId": "2cc9e34f-4cf2-4030-97eb-c43f55b7436f"
      },
      "source": [
        "print('Train pad shape: ', padded_train.shape)\n",
        "print('Test pad shape: ', padded_val.shape)\n",
        "print('Train label shape: ', label_train.shape)\n",
        "print('Test label shape: ', label_test.shape)"
      ],
      "execution_count": 21,
      "outputs": [
        {
          "output_type": "stream",
          "name": "stdout",
          "text": [
            "Train pad shape:  (13500, 35)\n",
            "Test pad shape:  (4500, 34)\n",
            "Train label shape:  (13500, 6)\n",
            "Test label shape:  (4500, 6)\n"
          ]
        }
      ]
    },
    {
      "cell_type": "code",
      "metadata": {
        "colab": {
          "base_uri": "https://localhost:8080/"
        },
        "id": "8UjqiobQtiU7",
        "outputId": "742560a5-3482-4485-a22a-243c83744c29"
      },
      "source": [
        "from keras.layers import Embedding\n",
        "from keras.layers import LSTM\n",
        "from keras.layers import Dense\n",
        "from keras.layers import Dropout\n",
        "from keras.models import Sequential\n",
        "\n",
        "model = Sequential([\n",
        "  Embedding(input_dim = num_words, output_dim = output_dim),\n",
        "  LSTM(128),\n",
        "  Dense(128, activation = 'relu'),\n",
        "  Dropout(0.5),\n",
        "  Dense(6, activation = 'softmax')\n",
        "])\n",
        "\n",
        "model.compile(\n",
        "    loss = 'categorical_crossentropy',\n",
        "    optimizer = 'Adam',\n",
        "    metrics = ['accuracy']\n",
        ")\n",
        "\n",
        "model.summary()"
      ],
      "execution_count": 22,
      "outputs": [
        {
          "output_type": "stream",
          "name": "stdout",
          "text": [
            "Model: \"sequential\"\n",
            "_________________________________________________________________\n",
            "Layer (type)                 Output Shape              Param #   \n",
            "=================================================================\n",
            "embedding (Embedding)        (None, None, 64)          640000    \n",
            "_________________________________________________________________\n",
            "lstm (LSTM)                  (None, 128)               98816     \n",
            "_________________________________________________________________\n",
            "dense (Dense)                (None, 128)               16512     \n",
            "_________________________________________________________________\n",
            "dropout (Dropout)            (None, 128)               0         \n",
            "_________________________________________________________________\n",
            "dense_1 (Dense)              (None, 6)                 774       \n",
            "=================================================================\n",
            "Total params: 756,102\n",
            "Trainable params: 756,102\n",
            "Non-trainable params: 0\n",
            "_________________________________________________________________\n"
          ]
        }
      ]
    },
    {
      "cell_type": "code",
      "metadata": {
        "id": "hm2IOARquQCW"
      },
      "source": [
        "from keras.callbacks import Callback\n",
        "\n",
        "class Callback(Callback):\n",
        "  def on_epoch_end(self, epoch, logs = {}):\n",
        "    if (logs.get('accuracy') > 0.98):\n",
        "      self.model.stop_training = True\n",
        "\n",
        "callbacks = Callback()"
      ],
      "execution_count": 23,
      "outputs": []
    },
    {
      "cell_type": "code",
      "metadata": {
        "colab": {
          "base_uri": "https://localhost:8080/"
        },
        "id": "EkKR3lyfuxQb",
        "outputId": "89cd8a04-c8a6-4a25-a607-be721e458f87"
      },
      "source": [
        "history = model.fit(\n",
        "    padded_train, label_train,\n",
        "    epochs = 100,\n",
        "    validation_data = (padded_val, label_test),\n",
        "    callbacks = [callbacks],\n",
        "    shuffle = False\n",
        ")"
      ],
      "execution_count": 24,
      "outputs": [
        {
          "output_type": "stream",
          "name": "stdout",
          "text": [
            "Epoch 1/100\n",
            "422/422 [==============================] - 10s 16ms/step - loss: 1.2221 - accuracy: 0.5105 - val_loss: 0.6409 - val_accuracy: 0.7938\n",
            "Epoch 2/100\n",
            "422/422 [==============================] - 6s 15ms/step - loss: 0.3608 - accuracy: 0.8888 - val_loss: 0.3182 - val_accuracy: 0.8951\n",
            "Epoch 3/100\n",
            "422/422 [==============================] - 6s 15ms/step - loss: 0.1427 - accuracy: 0.9519 - val_loss: 0.3250 - val_accuracy: 0.9053\n",
            "Epoch 4/100\n",
            "422/422 [==============================] - 6s 15ms/step - loss: 0.0904 - accuracy: 0.9710 - val_loss: 0.3205 - val_accuracy: 0.9073\n",
            "Epoch 5/100\n",
            "422/422 [==============================] - 7s 16ms/step - loss: 0.0644 - accuracy: 0.9798 - val_loss: 0.3584 - val_accuracy: 0.9118\n",
            "Epoch 6/100\n",
            "422/422 [==============================] - 6s 15ms/step - loss: 0.0563 - accuracy: 0.9809 - val_loss: 0.4614 - val_accuracy: 0.9051\n"
          ]
        }
      ]
    },
    {
      "cell_type": "code",
      "metadata": {
        "colab": {
          "base_uri": "https://localhost:8080/",
          "height": 331
        },
        "id": "IKviBzckygTp",
        "outputId": "4542d82a-4ebe-45a3-b9ec-586a97036e3b"
      },
      "source": [
        "import matplotlib.pyplot as plt\n",
        "%matplotlib inline\n",
        "\n",
        "plt.style.use('seaborn-whitegrid')\n",
        "\n",
        "def plot_acc(history):\n",
        "  acc = history.history['accuracy']\n",
        "  val_acc = history.history['val_accuracy']\n",
        "  epochs = range(len(acc))\n",
        "  plt.subplot(1, 2, 1)\n",
        "  acc_plot, = plt.plot(epochs, acc, 'r')\n",
        "  val_acc_plot, = plt.plot(epochs, val_acc, 'b')\n",
        "  plt.title('Training and Validation Accuracy')\n",
        "  plt.legend([acc_plot, val_acc_plot], ['Training Accuracy', 'Validation Accuracy'])\n",
        "\n",
        "def plot_loss(history):\n",
        "  loss = history.history['loss']\n",
        "  val_loss = history.history['val_loss']\n",
        "  epochs = range(len(loss))\n",
        "  plt.subplot(1, 2, 2)\n",
        "  loss_plot, = plt.plot(epochs, loss, 'r')\n",
        "  val_loss_plot, = plt.plot(epochs, val_loss, 'b')\n",
        "  plt.title('Training and Validation Loss')\n",
        "  plt.legend([loss_plot, val_loss_plot], ['Training Loss', 'Validation Loss'])\n",
        "\n",
        "def plot_history(history):\n",
        "  plt.figure(figsize = (15, 5))\n",
        "  plot_acc(history)\n",
        "  plot_loss(history)\n",
        "  \n",
        "plot_history(history)"
      ],
      "execution_count": 25,
      "outputs": [
        {
          "output_type": "display_data",
          "data": {
            "image/png": "[encoded data removed]",
            "text/plain": [
              "<Figure size 1080x360 with 2 Axes>"
            ]
          },
          "metadata": {}
        }
      ]
    },
    {
      "cell_type": "code",
      "metadata": {
        "id": "vXHEeEzg0WcD"
      },
      "source": [
        "import numpy as np\n",
        "\n",
        "def predict_emotion(sentence, model = model):\n",
        "  text = remove_hyperlinks(sentence)\n",
        "  text = remove_currencies(text)\n",
        "  text = remove_number(text)\n",
        "  text = remove_punctuation(text)\n",
        "  text = tokenize(text)\n",
        "  text = remove_stopword(text)\n",
        "  text = lemmatize(text)\n",
        "  sequence = tokenizer.texts_to_sequences([text])\n",
        "  test = pad_sequences(sequence)\n",
        "  predict_array = model.predict(test)[0]\n",
        "\n",
        "  df = pd.DataFrame(predict_array)\n",
        "  df = df.rename({0: 'probability'}, axis = 1)\n",
        "  prod = ['anger', 'fear', 'joy', 'love', 'sadness', 'surprise']\n",
        "  df['label'] = prod\n",
        "  df = df[['label', 'probability']]\n",
        "\n",
        "  predict_label = np.argmax(model.predict(test), axis = 1)[0]\n",
        "\n",
        "  if predict_label == 0:\n",
        "      predict_product = 'Anger'\n",
        "  elif predict_label == 1:\n",
        "      predict_product = 'Fear'\n",
        "  elif predict_label == 2:\n",
        "      predict_product = 'Joy'\n",
        "  elif predict_label == 3:\n",
        "      predict_product = 'Love'\n",
        "  elif predict_label == 4:\n",
        "      predict_product = 'Sadness'\n",
        "  else:\n",
        "      predict_product = 'Surprise'\n",
        "\n",
        "  return predict_product, df"
      ],
      "execution_count": 26,
      "outputs": []
    },
    {
      "cell_type": "code",
      "metadata": {
        "colab": {
          "base_uri": "https://localhost:8080/"
        },
        "id": "9zJRAE_F1qUA",
        "outputId": "e2d49fd6-c583-4ecf-d953-15de0799bc9d"
      },
      "source": [
        "sentence = ['im feeling rather rotten so im not very ambitious right now',\n",
        "            'im updating my blog because i feel shitty',\n",
        "            'i left with my bouquet of red and yellow tulips under my arm feeling slightly more optimistic than when i arrived',\n",
        "            'i cant walk into a shop anywhere where i do not feel uncomfortable']\n",
        "\n",
        "for text in sentence:\n",
        "  label, df = predict_emotion(text)\n",
        "  print('\"' + text + '\"')\n",
        "  print(\"The sentence is detected as \" + label)\n",
        "  print('\\n', df.sort_values(by = 'probability', ascending = False), '\\n\\n')"
      ],
      "execution_count": 27,
      "outputs": [
        {
          "output_type": "stream",
          "name": "stdout",
          "text": [
            "\"im feeling rather rotten so im not very ambitious right now\"\n",
            "The sentence is detected as Sadness\n",
            "\n",
            "       label   probability\n",
            "4   sadness  9.999785e-01\n",
            "0     anger  1.414156e-05\n",
            "1      fear  3.961971e-06\n",
            "2       joy  3.202510e-06\n",
            "3      love  1.395958e-07\n",
            "5  surprise  5.028284e-09 \n",
            "\n",
            "\n",
            "\"im updating my blog because i feel shitty\"\n",
            "The sentence is detected as Sadness\n",
            "\n",
            "       label   probability\n",
            "4   sadness  9.999944e-01\n",
            "2       joy  5.209213e-06\n",
            "1      fear  2.097832e-07\n",
            "0     anger  1.434009e-07\n",
            "3      love  6.037452e-10\n",
            "5  surprise  3.128825e-11 \n",
            "\n",
            "\n",
            "\"i left with my bouquet of red and yellow tulips under my arm feeling slightly more optimistic than when i arrived\"\n",
            "The sentence is detected as Joy\n",
            "\n",
            "       label   probability\n",
            "2       joy  9.999994e-01\n",
            "4   sadness  4.887818e-07\n",
            "3      love  1.253953e-07\n",
            "1      fear  1.312109e-09\n",
            "5  surprise  1.942213e-10\n",
            "0     anger  7.720993e-11 \n",
            "\n",
            "\n",
            "\"i cant walk into a shop anywhere where i do not feel uncomfortable\"\n",
            "The sentence is detected as Fear\n",
            "\n",
            "       label   probability\n",
            "1      fear  9.907706e-01\n",
            "4   sadness  4.523114e-03\n",
            "0     anger  4.484302e-03\n",
            "5  surprise  2.208540e-04\n",
            "2       joy  8.730578e-07\n",
            "3      love  3.156308e-07 \n",
            "\n",
            "\n"
          ]
        }
      ]
    },
    {
      "cell_type": "code",
      "metadata": {
        "id": "O0JDz5NEXMbz"
      },
      "source": [
        ""
      ],
      "execution_count": 27,
      "outputs": []
    }
  ]
}